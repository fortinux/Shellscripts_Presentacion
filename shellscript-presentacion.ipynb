{
 "cells": [
  {
   "cell_type": "markdown",
   "id": "7b25d544",
   "metadata": {
    "slideshow": {
     "slide_type": "slide"
    }
   },
   "source": [
    "# shell scripts\n",
    "## Aprendiendo a programar shell scripts en GNU/Linux"
   ]
  },
  {
   "cell_type": "markdown",
   "id": "90f7aaad",
   "metadata": {
    "slideshow": {
     "slide_type": "slide"
    }
   },
   "source": [
    "### TEMA 1: Personalizar y usar el entorno de shell"
   ]
  },
  {
   "cell_type": "markdown",
   "id": "9b244586",
   "metadata": {
    "slideshow": {
     "slide_type": "slide"
    }
   },
   "source": [
    "# Introducción a la programación"
   ]
  },
  {
   "cell_type": "markdown",
   "id": "97dc1a30",
   "metadata": {
    "slideshow": {
     "slide_type": "slide"
    }
   },
   "source": [
    "Un programa es una secuencia de instrucciones que especifican cómo se debe realizar una tarea en\n",
    "un dispositivo (ordenador, mainframe, smartphone, etc.) o en una infraestructura distribuida tipo\n",
    "Cloud computing. Esta tarea puede ser buscar y reemplazar texto, realizar una operación\n",
    "matemática o procesar una imagen, entre muchas otras cosas.   \n",
    "  \n",
    "Las instrucciones básicas son similares a todos los lenguajes de programación:  \n",
    "  \n",
    "* entradas (obtener datos de un teclado, fichero, etc.),\n",
    "* salidas (mostrar datos en pantalla, imprimirlos, guardarlos, etc.),\n",
    "* operaciones matemáticas (cálculos),\n",
    "* ejecución condicional, y\n",
    "* repetición.\n",
    "  \n"
   ]
  },
  {
   "cell_type": "markdown",
   "id": "ee2e9c94",
   "metadata": {
    "slideshow": {
     "slide_type": "slide"
    }
   },
   "source": [
    "Los lenguajes de programación son lenguajes formales que tienen sus propias reglas de sintaxis a\n",
    "seguir, una estructura (su análisis sintáctico se denomina parsing en inglés), y utilizan palabras,\n",
    "números y símbolos (tokens) como elementos básicos.  \n",
    "  "
   ]
  },
  {
   "cell_type": "markdown",
   "id": "d6a000a9",
   "metadata": {
    "slideshow": {
     "slide_type": "slide"
    }
   },
   "source": [
    "Un aspecto importante a tener en cuenta es que un lenguaje de programación es literal y evita la\n",
    "ambigüedad y la redundancia. Cuando surgen errores, el proceso de eliminarlos se llama depuración\n",
    "(debugging).  \n",
    "       "
   ]
  },
  {
   "cell_type": "markdown",
   "id": "d682f3f4",
   "metadata": {
    "slideshow": {
     "slide_type": "slide"
    }
   },
   "source": [
    "Por otro lado se suele clasificar como lenguajes de bajo nivel a los que interactúan directamente con\n",
    "la máquina como por ejemplo assembler, y de alto nivel como C, Java o Python que proporcionan\n",
    "un nivel de abstracción más cercano al humano.  \n",
    "  \n",
    "Los lenguajes de alto nivel por sus características a su vez se pueden clasificar como:  \n",
    "  \n",
    "* Imperativos: procedimentales, orientados a objetos (POO);\n",
    "* Declarativos: funcionales, lógicos, matemáticos, y reactivos.\n",
    "   \n",
    "Fuente: (https://en.wikipedia.org/wiki/Programming_paradigm)  "
   ]
  },
  {
   "cell_type": "markdown",
   "id": "93cf0c72",
   "metadata": {
    "slideshow": {
     "slide_type": "slide"
    }
   },
   "source": [
    "Para que la máquina pueda leer las instrucciones de los programas utiliza unos traductores llamados\n",
    "compiladores (generan un ejecutable a partir del código fuente), o intérpretes (analizan y traducen\n",
    "las instrucciones una a una). Esto implica que los lenguajes de programación sean compilados o\n",
    "interpretados.  \n",
    "  \n",
    "* Lenguajes compilados: C, Pascal, C++...\n",
    "* Lenguajes interpretados: Bash, Python, Perl, PHP, Ruby...  \n",
    "  "
   ]
  },
  {
   "cell_type": "markdown",
   "id": "af41c115",
   "metadata": {
    "slideshow": {
     "slide_type": "slide"
    }
   },
   "source": [
    "Los métodos de desarrollo del software en cascada (waterfall) suelen dividir en etapas la tarea de\n",
    "programación: Especificación, Diseño, Implementación, Validación, y Mantenimiento. Los métodos\n",
    "ágiles por su parte desarrollan iterativamente y de forma incremental."
   ]
  },
  {
   "cell_type": "markdown",
   "id": "be5123a8",
   "metadata": {
    "slideshow": {
     "slide_type": "slide"
    }
   },
   "source": [
    "# Shell"
   ]
  },
  {
   "cell_type": "markdown",
   "id": "d7329bdb",
   "metadata": {
    "slideshow": {
     "slide_type": "slide"
    }
   },
   "source": [
    "La shell es una interfaz entre el usuario y el kernel del sistema operativo. En los sistemas operativos\n",
    "GNU/Linux la shell de facto es BASH (Bourne Again Shell) aunque hay otras que se pueden\n",
    "utilizar, como por ejemplo sh (Bourne shell) y ksh (Korn shell).El estándar utilizado es el definido por \n",
    "el IEEE: es el 1003.2-1992 - IEEE Standard for Information\n",
    "Technology--Portable Operating System Interfaces (POSIX(R)) Part 2: Shell and Utilities.\n",
    "(https://ieeexplore.ieee.org/document/6880751)  \n",
    "  \n",
    "Cuando se inicia, la shell ejecuta los scripts de personalización de la sesión del usuario. Éstos\n",
    "scripts que contienen variables, funciones y aliases, pueden ser globales o específicos para este\n",
    "usuario concreto.  \n",
    "  "
   ]
  },
  {
   "cell_type": "code",
   "execution_count": null,
   "id": "36130a3e",
   "metadata": {
    "slideshow": {
     "slide_type": "slide"
    }
   },
   "outputs": [],
   "source": [
    "env    # Muestra las variables de entorno"
   ]
  },
  {
   "cell_type": "code",
   "execution_count": null,
   "id": "26428c4a",
   "metadata": {
    "slideshow": {
     "slide_type": "fragment"
    }
   },
   "outputs": [],
   "source": [
    "bash    # Ambiente shell"
   ]
  },
  {
   "cell_type": "code",
   "execution_count": null,
   "id": "77d74e1b",
   "metadata": {
    "slideshow": {
     "slide_type": "fragment"
    }
   },
   "outputs": [],
   "source": [
    "sh     # Ambiente sh"
   ]
  },
  {
   "cell_type": "code",
   "execution_count": null,
   "id": "0237e6bf",
   "metadata": {
    "slideshow": {
     "slide_type": "fragment"
    }
   },
   "outputs": [],
   "source": [
    "exit    # Salir del ambiente"
   ]
  },
  {
   "cell_type": "markdown",
   "id": "ba20d765",
   "metadata": {
    "slideshow": {
     "slide_type": "slide"
    }
   },
   "source": [
    "Los prompts de usuario se distinguen por usar el símbolo numeral para root y el símbolo de dólar para el usuario sin permisos de administrador:   \n",
    "    \n",
    "\\# root\n",
    "\\$ user"
   ]
  },
  {
   "cell_type": "markdown",
   "id": "984681aa",
   "metadata": {
    "slideshow": {
     "slide_type": "slide"
    }
   },
   "source": [
    "# Ficheros de configuración"
   ]
  },
  {
   "cell_type": "markdown",
   "id": "ac1904d6",
   "metadata": {
    "slideshow": {
     "slide_type": "slide"
    }
   },
   "source": [
    "Los ficheros personales de los usuarios de bash son:\n"
   ]
  },
  {
   "cell_type": "code",
   "execution_count": null,
   "id": "2e2300ec",
   "metadata": {
    "slideshow": {
     "slide_type": "fragment"
    }
   },
   "outputs": [],
   "source": [
    "~/.bashrc     \n",
    "~/.bash_profile     "
   ]
  },
  {
   "cell_type": "markdown",
   "id": "6eee5a95",
   "metadata": {
    "slideshow": {
     "slide_type": "subslide"
    }
   },
   "source": [
    "Dash (Debian Almquist shell) utiliza a su vez:     \n",
    "  "
   ]
  },
  {
   "cell_type": "code",
   "execution_count": null,
   "id": "a80b88d6",
   "metadata": {
    "slideshow": {
     "slide_type": "fragment"
    }
   },
   "outputs": [],
   "source": [
    " ~/.profile"
   ]
  },
  {
   "cell_type": "markdown",
   "id": "da9a912f",
   "metadata": {
    "slideshow": {
     "slide_type": "subslide"
    }
   },
   "source": [
    "Los ficheros globales de inicio son:    \n",
    "    "
   ]
  },
  {
   "cell_type": "code",
   "execution_count": null,
   "id": "42284015",
   "metadata": {
    "slideshow": {
     "slide_type": "fragment"
    }
   },
   "outputs": [],
   "source": [
    "/etc/profile\n",
    "/etc/profile.d/*\n",
    "/etc/bashrc     # CentOS 8 \n",
    "/etc/bash.bashrc     # Ubuntu 20.04  "
   ]
  },
  {
   "cell_type": "code",
   "execution_count": null,
   "id": "a43f021d",
   "metadata": {
    "slideshow": {
     "slide_type": "subslide"
    }
   },
   "outputs": [],
   "source": [
    "ls -l /bin/sh    # Muestra el enlace simbólico en SO basados en Debian a Dash"
   ]
  },
  {
   "cell_type": "code",
   "execution_count": null,
   "id": "0c907086",
   "metadata": {
    "slideshow": {
     "slide_type": "subslide"
    }
   },
   "outputs": [],
   "source": [
    "ls -l /bin/bash"
   ]
  },
  {
   "cell_type": "code",
   "execution_count": null,
   "id": "6de407ae",
   "metadata": {
    "slideshow": {
     "slide_type": "subslide"
    }
   },
   "outputs": [],
   "source": [
    "ls -l /bin/dash"
   ]
  },
  {
   "cell_type": "markdown",
   "id": "a98117ef",
   "metadata": {
    "slideshow": {
     "slide_type": "slide"
    }
   },
   "source": [
    "Los ficheros locales tienen precedencia sobre los ficheros globales.  \n",
    "    \n",
    "Ficheros del perfil de la sesión de usuario localizados en la carpeta del usuario, por ej. */home/usuario*:   \n",
    "      "
   ]
  },
  {
   "cell_type": "code",
   "execution_count": null,
   "id": "ec19da65",
   "metadata": {
    "slideshow": {
     "slide_type": "subslide"
    }
   },
   "outputs": [],
   "source": [
    "bash_history\n",
    ".bash_logout\n",
    ".bashrc\n",
    ".profile\n",
    "..."
   ]
  },
  {
   "cell_type": "markdown",
   "id": "96ff328f",
   "metadata": {
    "slideshow": {
     "slide_type": "slide"
    }
   },
   "source": [
    "Ficheros del perfil de la sesión en el servidor Ubuntu 18.04:    \n",
    "    "
   ]
  },
  {
   "cell_type": "code",
   "execution_count": null,
   "id": "feaa6daa",
   "metadata": {
    "slideshow": {
     "slide_type": "subslide"
    }
   },
   "outputs": [],
   "source": [
    "/etc/profile/profile.d\n",
    "bash_completion\n",
    "..."
   ]
  },
  {
   "cell_type": "markdown",
   "id": "ea36704f",
   "metadata": {
    "slideshow": {
     "slide_type": "slide"
    }
   },
   "source": [
    "Funciones de todo el sistema:    \n",
    "  "
   ]
  },
  {
   "cell_type": "code",
   "execution_count": null,
   "id": "d10b709c",
   "metadata": {
    "slideshow": {
     "slide_type": "subslide"
    }
   },
   "outputs": [],
   "source": [
    "/etc/bash.bashrc"
   ]
  },
  {
   "cell_type": "markdown",
   "id": "27948ef2",
   "metadata": {
    "slideshow": {
     "slide_type": "slide"
    }
   },
   "source": [
    "Controlar el comportamiento de cierre de sesión:\n",
    "   "
   ]
  },
  {
   "cell_type": "code",
   "execution_count": null,
   "id": "4f8b6bd1",
   "metadata": {
    "slideshow": {
     "slide_type": "subslide"
    }
   },
   "outputs": [],
   "source": [
    ".bash_logout"
   ]
  },
  {
   "cell_type": "markdown",
   "id": "0963a80e",
   "metadata": {
    "slideshow": {
     "slide_type": "slide"
    }
   },
   "source": [
    "Para verificar como se ejecutan los ficheros de inicio en bash:   \n",
    "    "
   ]
  },
  {
   "cell_type": "code",
   "execution_count": null,
   "id": "5b2e3a46",
   "metadata": {
    "slideshow": {
     "slide_type": "fragment"
    }
   },
   "outputs": [],
   "source": [
    "echo 'echo Hola desde /etc/bash.bashrc' >> /etc/bash.bashrc  "
   ]
  },
  {
   "cell_type": "code",
   "execution_count": null,
   "id": "063a6ba0",
   "metadata": {
    "slideshow": {
     "slide_type": "fragment"
    }
   },
   "outputs": [],
   "source": [
    "echo 'echo Hola desde ~/.bashrc' >> ~/.bashrc"
   ]
  },
  {
   "cell_type": "code",
   "execution_count": null,
   "id": "6ccddd6a",
   "metadata": {
    "slideshow": {
     "slide_type": "fragment"
    }
   },
   "outputs": [],
   "source": [
    "bash"
   ]
  }
 ],
 "metadata": {
  "celltoolbar": "Slideshow",
  "kernelspec": {
   "display_name": "Bash",
   "language": "bash",
   "name": "bash"
  },
  "language_info": {
   "codemirror_mode": "shell",
   "file_extension": ".sh",
   "mimetype": "text/x-sh",
   "name": "bash"
  }
 },
 "nbformat": 4,
 "nbformat_minor": 5
}
